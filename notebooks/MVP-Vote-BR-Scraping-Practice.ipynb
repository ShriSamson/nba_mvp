{
 "cells": [
  {
   "cell_type": "markdown",
   "id": "quantitative-testimony",
   "metadata": {},
   "source": [
    "\n",
    "# Web Scraping Practice"
   ]
  },
  {
   "cell_type": "code",
   "execution_count": 1,
   "id": "patent-binary",
   "metadata": {},
   "outputs": [],
   "source": [
    "# needed libraries\n",
    "from urllib.request import urlopen\n",
    "from bs4 import BeautifulSoup\n",
    "import time\n",
    "import pandas as pd\n",
    "import re"
   ]
  },
  {
   "cell_type": "code",
   "execution_count": null,
   "id": "sorted-marijuana",
   "metadata": {},
   "outputs": [],
   "source": [
    "import sys\n",
    "# insert at 1, 0 is the script path (or '' in REPL)\n",
    "sys.path.insert(1, '/Users/gazelle/GitRepositories/nba_mvp')\n",
    "from src.data.raw_dataset import scrape_mvp_vote_results_by_year"
   ]
  },
  {
   "cell_type": "markdown",
   "id": "handy-nirvana",
   "metadata": {},
   "source": [
    "def scrape_mvp_vote_results_by_year(years):\n",
    "    '''\n",
    "    Takes in a list of years as ints, returns a pandas df of voting results\n",
    "    \n",
    "    Args:\n",
    "        years ([int]):list of years\n",
    "    \n",
    "    Returns:\n",
    "        pandas.Dataframe : dataframe of results\n",
    "    '''\n",
    "    df = pd.DataFrame()\n",
    "    for year in years:\n",
    "        url = f'https://www.basketball-reference.com/awards/awards_{year}.html#mvp'\n",
    "        \n",
    "        t0 = time.time()\n",
    "        html = urlopen(url)\n",
    "        soup = BeautifulSoup(html, 'lxml')\n",
    "        headers = [th.getText() for th in soup.findAll('tr', limit=2)[1].findAll('th')]\n",
    "        headers[0] = 'Year'\n",
    "        \n",
    "        rows = soup.findAll('tr')[2:]\n",
    "        rows_data = [\n",
    "                    [td.getText() for td in rows[i].findAll('td')] \n",
    "                    for i in range(len(rows))\n",
    "                    ]\n",
    "\n",
    "        #remove results after the first table\n",
    "        candidates = []\n",
    "        for col in rows_data:\n",
    "            if col:\n",
    "                candidates.append(col)\n",
    "            else:\n",
    "                break\n",
    "        #add year to the year column\n",
    "        for row in candidates:\n",
    "            row.insert(0, year)\n",
    "\n",
    "        df = df.append(pd.DataFrame(candidates, columns = headers), ignore_index=True)\n",
    "        time.sleep(3-(t0-time.time()))\n",
    "    return df"
   ]
  },
  {
   "cell_type": "markdown",
   "id": "greater-camcorder",
   "metadata": {},
   "source": [
    "url = f'https://www.basketball-reference.com/awards/awards_2020.html#mvp'\n",
    "        \n",
    "t0 = time.time()\n",
    "html = urlopen(url)\n",
    "soup = BeautifulSoup(html, 'lxml')\n",
    "headers = [th.getText() for th in soup.findAll('tr', limit=2)[1].findAll('th')]\n",
    "headers[0] = 'Year'\n",
    "\n",
    "rows = soup.findAll('tr')[2:]\n",
    "rows_data = [\n",
    "            [td.getText() for td in rows[i].findAll('td')] \n",
    "            for i in range(len(rows))\n",
    "            ]\n",
    "\n",
    "#remove results after the first table\n",
    "candidates = []\n",
    "for col in rows_data:\n",
    "    if col:\n",
    "        candidates.append(col)\n",
    "    else:\n",
    "        break\n",
    "#add year to the year column\n",
    "for row in candidates:\n",
    "    row.insert(0, year)\n",
    "\n",
    "df = df.append(pd.DataFrame(candidates, columns = headers), ignore_index=True)"
   ]
  },
  {
   "cell_type": "markdown",
   "id": "scenic-equivalent",
   "metadata": {},
   "source": [
    "df = pd.DataFrame()\n",
    "url = 'https://www.basketball-reference.com/awards/awards_2020.html#mvp'\n",
    "\n",
    "html = urlopen(url)\n",
    "\n",
    "soup = BeautifulSoup(html, 'lxml')\n",
    "\n",
    "soup.find('h1')\n",
    "\n",
    "season = re.findall(r'\\d+-\\d+', soup.find('h1').getText())[0]\n",
    "\n",
    "headers = [th.getText() for th in soup.findAll('tr', limit=2)[1].findAll('th')]\n",
    "headers[0] = 'Season'"
   ]
  },
  {
   "cell_type": "markdown",
   "id": "found-sperm",
   "metadata": {},
   "source": [
    "[th.getText() for th in soup.findAll('tr', limit=2)[1].findAll('th')]"
   ]
  },
  {
   "cell_type": "markdown",
   "id": "applied-thomas",
   "metadata": {
    "jupyter": {
     "outputs_hidden": true
    }
   },
   "source": [
    "import src.data.raw_dataset \n",
    "src.data.raw_dataset.get_table_headers(soup,2,1)"
   ]
  },
  {
   "cell_type": "markdown",
   "id": "economic-creation",
   "metadata": {},
   "source": [
    "src.data.raw_dataset.test_print()"
   ]
  },
  {
   "cell_type": "markdown",
   "id": "presidential-teens",
   "metadata": {
    "jupyter": {
     "outputs_hidden": true
    }
   },
   "source": [
    "l=2\n",
    "index=1\n",
    "soup.findAll('tr', limit=l)[index].findAll('th')"
   ]
  },
  {
   "cell_type": "markdown",
   "id": "covered-sixth",
   "metadata": {},
   "source": [
    "rows = soup.findAll('tr')[2:]\n",
    "rows_data = [\n",
    "            [td.getText() for td in row.findAll('td')] \n",
    "            for row in rows\n",
    "            ]\n",
    "\n",
    "#remove results after the first table\n",
    "for i,col in enumerate(rows_data):\n",
    "    if col:\n",
    "        pass\n",
    "    else:\n",
    "        rows_data = rows_data[:i]\n",
    "        break\n",
    "\n",
    "for row in rows_data:\n",
    "    row.insert(0, season)\n",
    "\n",
    "df = df.append(pd.DataFrame(rows_data, columns = headers), ignore_index=True)"
   ]
  },
  {
   "cell_type": "code",
   "execution_count": 9,
   "id": "brown-synthetic",
   "metadata": {},
   "outputs": [],
   "source": [
    "df = scrape_mvp_vote_results_by_year(range(2020,1980,-1))"
   ]
  },
  {
   "cell_type": "code",
   "execution_count": 12,
   "id": "incorrect-stocks",
   "metadata": {},
   "outputs": [],
   "source": [
    "df.rename(columns={'Tm':'Team'}, inplace=True)"
   ]
  },
  {
   "cell_type": "code",
   "execution_count": 1,
   "id": "continuous-tours",
   "metadata": {},
   "outputs": [
    {
     "ename": "NameError",
     "evalue": "name 'df' is not defined",
     "output_type": "error",
     "traceback": [
      "\u001b[0;31m---------------------------------------------------------------------------\u001b[0m",
      "\u001b[0;31mNameError\u001b[0m                                 Traceback (most recent call last)",
      "\u001b[0;32m<ipython-input-1-00cf07b74dcd>\u001b[0m in \u001b[0;36m<module>\u001b[0;34m\u001b[0m\n\u001b[0;32m----> 1\u001b[0;31m \u001b[0mdf\u001b[0m\u001b[0;34m\u001b[0m\u001b[0;34m\u001b[0m\u001b[0m\n\u001b[0m",
      "\u001b[0;31mNameError\u001b[0m: name 'df' is not defined"
     ]
    }
   ],
   "source": [
    "df"
   ]
  },
  {
   "cell_type": "code",
   "execution_count": 14,
   "id": "demographic-muscle",
   "metadata": {},
   "outputs": [],
   "source": [
    "df.to_csv('../data/raw/mvp-votes-2020-1981',index=False)"
   ]
  },
  {
   "cell_type": "code",
   "execution_count": null,
   "id": "modified-mounting",
   "metadata": {},
   "outputs": [],
   "source": []
  }
 ],
 "metadata": {
  "kernelspec": {
   "display_name": "Python 3",
   "language": "python",
   "name": "python3"
  },
  "language_info": {
   "codemirror_mode": {
    "name": "ipython",
    "version": 3
   },
   "file_extension": ".py",
   "mimetype": "text/x-python",
   "name": "python",
   "nbconvert_exporter": "python",
   "pygments_lexer": "ipython3",
   "version": "3.9.4"
  }
 },
 "nbformat": 4,
 "nbformat_minor": 5
}
