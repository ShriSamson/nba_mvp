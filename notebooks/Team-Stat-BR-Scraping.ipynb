{
 "cells": [
  {
   "cell_type": "markdown",
   "id": "narrow-highlight",
   "metadata": {},
   "source": [
    "# Scraping Team Season Results"
   ]
  },
  {
   "cell_type": "code",
   "execution_count": 1,
   "id": "later-ukraine",
   "metadata": {},
   "outputs": [],
   "source": [
    "from bs4 import BeautifulSoup\n",
    "from urllib.request import urlopen\n",
    "import time\n",
    "import re\n",
    "import pandas as pd"
   ]
  },
  {
   "cell_type": "code",
   "execution_count": 2,
   "id": "consolidated-distinction",
   "metadata": {},
   "outputs": [],
   "source": [
    "team_id = 'PHI'"
   ]
  },
  {
   "cell_type": "code",
   "execution_count": 39,
   "id": "joint-joint",
   "metadata": {},
   "outputs": [],
   "source": [
    "#get list of team ids\n",
    "df_votes = pd.read_csv('../data/raw/mvp-votes-2020-1981')"
   ]
  },
  {
   "cell_type": "markdown",
   "id": "particular-village",
   "metadata": {},
   "source": [
    "Some years a player got votes who played on >1 team during the same season. When a multi-team season occurs, BR often uses 'TOT' in the team name. Since this is a really small fraction of vote share and a rare occurance I'm comfortable removing these from the dataset because it otherwise complicates incorporating team W/L%."
   ]
  },
  {
   "cell_type": "code",
   "execution_count": 30,
   "id": "southwest-preview",
   "metadata": {},
   "outputs": [
    {
     "data": {
      "text/html": [
       "<div>\n",
       "<style scoped>\n",
       "    .dataframe tbody tr th:only-of-type {\n",
       "        vertical-align: middle;\n",
       "    }\n",
       "\n",
       "    .dataframe tbody tr th {\n",
       "        vertical-align: top;\n",
       "    }\n",
       "\n",
       "    .dataframe thead th {\n",
       "        text-align: right;\n",
       "    }\n",
       "</style>\n",
       "<table border=\"1\" class=\"dataframe\">\n",
       "  <thead>\n",
       "    <tr style=\"text-align: right;\">\n",
       "      <th></th>\n",
       "      <th>Year</th>\n",
       "      <th>Player</th>\n",
       "      <th>Age</th>\n",
       "      <th>Tm</th>\n",
       "      <th>First</th>\n",
       "      <th>Pts Won</th>\n",
       "      <th>Pts Max</th>\n",
       "      <th>Share</th>\n",
       "      <th>G</th>\n",
       "      <th>MP</th>\n",
       "      <th>PTS</th>\n",
       "      <th>TRB</th>\n",
       "      <th>AST</th>\n",
       "      <th>STL</th>\n",
       "      <th>BLK</th>\n",
       "      <th>FG%</th>\n",
       "      <th>3P%</th>\n",
       "      <th>FT%</th>\n",
       "      <th>WS</th>\n",
       "      <th>WS/48</th>\n",
       "    </tr>\n",
       "  </thead>\n",
       "  <tbody>\n",
       "    <tr>\n",
       "      <th>144</th>\n",
       "      <td>2010</td>\n",
       "      <td>Stephen Jackson</td>\n",
       "      <td>31</td>\n",
       "      <td>TOT</td>\n",
       "      <td>0.0</td>\n",
       "      <td>1.0</td>\n",
       "      <td>1230</td>\n",
       "      <td>0.001</td>\n",
       "      <td>81</td>\n",
       "      <td>38.6</td>\n",
       "      <td>20.6</td>\n",
       "      <td>5.0</td>\n",
       "      <td>3.7</td>\n",
       "      <td>1.6</td>\n",
       "      <td>0.5</td>\n",
       "      <td>0.423</td>\n",
       "      <td>0.328</td>\n",
       "      <td>0.779</td>\n",
       "      <td>5.0</td>\n",
       "      <td>0.077</td>\n",
       "    </tr>\n",
       "    <tr>\n",
       "      <th>151</th>\n",
       "      <td>2009</td>\n",
       "      <td>Chauncey Billups</td>\n",
       "      <td>32</td>\n",
       "      <td>TOT</td>\n",
       "      <td>0.0</td>\n",
       "      <td>33.0</td>\n",
       "      <td>1210</td>\n",
       "      <td>0.027</td>\n",
       "      <td>79</td>\n",
       "      <td>35.3</td>\n",
       "      <td>17.7</td>\n",
       "      <td>3.0</td>\n",
       "      <td>6.4</td>\n",
       "      <td>1.2</td>\n",
       "      <td>0.2</td>\n",
       "      <td>0.418</td>\n",
       "      <td>0.408</td>\n",
       "      <td>0.913</td>\n",
       "      <td>10.1</td>\n",
       "      <td>0.174</td>\n",
       "    </tr>\n",
       "    <tr>\n",
       "      <th>215</th>\n",
       "      <td>2005</td>\n",
       "      <td>Vince Carter</td>\n",
       "      <td>28</td>\n",
       "      <td>TOT</td>\n",
       "      <td>0.0</td>\n",
       "      <td>3.0</td>\n",
       "      <td>1270</td>\n",
       "      <td>0.002</td>\n",
       "      <td>77</td>\n",
       "      <td>36.7</td>\n",
       "      <td>24.5</td>\n",
       "      <td>5.2</td>\n",
       "      <td>4.2</td>\n",
       "      <td>1.4</td>\n",
       "      <td>0.6</td>\n",
       "      <td>0.452</td>\n",
       "      <td>0.406</td>\n",
       "      <td>0.798</td>\n",
       "      <td>9.4</td>\n",
       "      <td>0.159</td>\n",
       "    </tr>\n",
       "    <tr>\n",
       "      <th>389</th>\n",
       "      <td>1995</td>\n",
       "      <td>Clyde Drexler</td>\n",
       "      <td>32</td>\n",
       "      <td>TOT</td>\n",
       "      <td>0.0</td>\n",
       "      <td>3.0</td>\n",
       "      <td>1050</td>\n",
       "      <td>0.003</td>\n",
       "      <td>76</td>\n",
       "      <td>35.9</td>\n",
       "      <td>21.8</td>\n",
       "      <td>6.3</td>\n",
       "      <td>4.8</td>\n",
       "      <td>1.8</td>\n",
       "      <td>0.6</td>\n",
       "      <td>0.461</td>\n",
       "      <td>0.360</td>\n",
       "      <td>0.824</td>\n",
       "      <td>11.7</td>\n",
       "      <td>0.206</td>\n",
       "    </tr>\n",
       "    <tr>\n",
       "      <th>406</th>\n",
       "      <td>1994</td>\n",
       "      <td>Dominique Wilkins</td>\n",
       "      <td>34</td>\n",
       "      <td>TOT</td>\n",
       "      <td>0.0</td>\n",
       "      <td>1.0</td>\n",
       "      <td>1010</td>\n",
       "      <td>0.001</td>\n",
       "      <td>74</td>\n",
       "      <td>35.6</td>\n",
       "      <td>26.0</td>\n",
       "      <td>6.5</td>\n",
       "      <td>2.3</td>\n",
       "      <td>1.2</td>\n",
       "      <td>0.4</td>\n",
       "      <td>0.440</td>\n",
       "      <td>0.288</td>\n",
       "      <td>0.847</td>\n",
       "      <td>8.4</td>\n",
       "      <td>0.153</td>\n",
       "    </tr>\n",
       "  </tbody>\n",
       "</table>\n",
       "</div>"
      ],
      "text/plain": [
       "     Year             Player  Age   Tm  First  Pts Won  Pts Max  Share   G  \\\n",
       "144  2010    Stephen Jackson   31  TOT    0.0      1.0     1230  0.001  81   \n",
       "151  2009   Chauncey Billups   32  TOT    0.0     33.0     1210  0.027  79   \n",
       "215  2005       Vince Carter   28  TOT    0.0      3.0     1270  0.002  77   \n",
       "389  1995      Clyde Drexler   32  TOT    0.0      3.0     1050  0.003  76   \n",
       "406  1994  Dominique Wilkins   34  TOT    0.0      1.0     1010  0.001  74   \n",
       "\n",
       "       MP   PTS  TRB  AST  STL  BLK    FG%    3P%    FT%    WS  WS/48  \n",
       "144  38.6  20.6  5.0  3.7  1.6  0.5  0.423  0.328  0.779   5.0  0.077  \n",
       "151  35.3  17.7  3.0  6.4  1.2  0.2  0.418  0.408  0.913  10.1  0.174  \n",
       "215  36.7  24.5  5.2  4.2  1.4  0.6  0.452  0.406  0.798   9.4  0.159  \n",
       "389  35.9  21.8  6.3  4.8  1.8  0.6  0.461  0.360  0.824  11.7  0.206  \n",
       "406  35.6  26.0  6.5  2.3  1.2  0.4  0.440  0.288  0.847   8.4  0.153  "
      ]
     },
     "execution_count": 30,
     "metadata": {},
     "output_type": "execute_result"
    }
   ],
   "source": [
    "df_votes.query('Tm == [\"TOT\"]')"
   ]
  },
  {
   "cell_type": "code",
   "execution_count": 40,
   "id": "split-authority",
   "metadata": {},
   "outputs": [],
   "source": [
    "df_votes = df_votes[df_votes.Tm != 'TOT']"
   ]
  },
  {
   "cell_type": "code",
   "execution_count": 41,
   "id": "limiting-connectivity",
   "metadata": {},
   "outputs": [],
   "source": [
    "teams = df_votes.Tm.unique()"
   ]
  },
  {
   "cell_type": "code",
   "execution_count": 42,
   "id": "powerful-theta",
   "metadata": {},
   "outputs": [
    {
     "data": {
      "text/plain": [
       "array(['MIL', 'LAL', 'HOU', 'DAL', 'LAC', 'OKC', 'POR', 'DEN', 'TOR',\n",
       "       'MIA', 'BOS', 'GSW', 'PHI', 'UTA', 'CLE', 'NOP', 'SAS', 'MIN',\n",
       "       'IND', 'WAS', 'MEM', 'CHI', 'CHA', 'NYK', 'PHO', 'ORL', 'ATL',\n",
       "       'NOH', 'DET', 'SEA', 'SAC', 'NJN', 'CHH', 'WSB', 'SDC', 'KCK'],\n",
       "      dtype=object)"
      ]
     },
     "execution_count": 42,
     "metadata": {},
     "output_type": "execute_result"
    }
   ],
   "source": [
    "teams"
   ]
  },
  {
   "cell_type": "code",
   "execution_count": 31,
   "id": "comic-stereo",
   "metadata": {},
   "outputs": [
    {
     "data": {
      "text/plain": [
       "array(['MIL', 'LAL', 'HOU', 'DAL', 'LAC', 'OKC', 'POR', 'DEN', 'TOR',\n",
       "       'MIA', 'BOS', 'GSW', 'PHI', 'UTA', 'CLE', 'NOP', 'SAS', 'MIN',\n",
       "       'IND', 'WAS', 'MEM', 'CHI', 'CHA', 'NYK', 'PHO', 'ORL', 'ATL',\n",
       "       'NOH', 'TOT', 'DET', 'SEA', 'SAC', 'NJN', 'CHH', 'WSB', 'SDC',\n",
       "       'KCK'], dtype=object)"
      ]
     },
     "execution_count": 31,
     "metadata": {},
     "output_type": "execute_result"
    }
   ],
   "source": [
    "df_votes.Tm.unique()"
   ]
  },
  {
   "cell_type": "code",
   "execution_count": 27,
   "id": "champion-induction",
   "metadata": {},
   "outputs": [
    {
     "data": {
      "text/plain": [
       "array(['MIL', 'LAL', 'HOU', 'DAL', 'LAC', 'OKC', 'POR', 'DEN', 'TOR',\n",
       "       'MIA', 'BOS', 'GSW', 'PHI', 'UTA', 'CLE'], dtype=object)"
      ]
     },
     "execution_count": 27,
     "metadata": {},
     "output_type": "execute_result"
    }
   ],
   "source": [
    "df_teams.Team.unique()"
   ]
  },
  {
   "cell_type": "code",
   "execution_count": 43,
   "id": "directed-ebony",
   "metadata": {},
   "outputs": [],
   "source": [
    "renamed_teams_map = {\n",
    "    'NOP':'NOH',\n",
    "    'SEA':'OKC',\n",
    "    'CHH':'CHA',\n",
    "    'WSB':'WAS',\n",
    "    'SDC':'LAC',\n",
    "    'KCK':'SAC'\n",
    "}"
   ]
  },
  {
   "cell_type": "code",
   "execution_count": 47,
   "id": "gorgeous-reservoir",
   "metadata": {},
   "outputs": [],
   "source": [
    "renamed_teams_list = set(renamed_teams_map.get(tm,tm) for tm in df_votes.Tm.unique())        "
   ]
  },
  {
   "cell_type": "code",
   "execution_count": 48,
   "id": "christian-toyota",
   "metadata": {},
   "outputs": [
    {
     "data": {
      "text/plain": [
       "{'ATL',\n",
       " 'BOS',\n",
       " 'CHA',\n",
       " 'CHI',\n",
       " 'CLE',\n",
       " 'DAL',\n",
       " 'DEN',\n",
       " 'DET',\n",
       " 'GSW',\n",
       " 'HOU',\n",
       " 'IND',\n",
       " 'LAC',\n",
       " 'LAL',\n",
       " 'MEM',\n",
       " 'MIA',\n",
       " 'MIL',\n",
       " 'MIN',\n",
       " 'NJN',\n",
       " 'NOH',\n",
       " 'NYK',\n",
       " 'OKC',\n",
       " 'ORL',\n",
       " 'PHI',\n",
       " 'PHO',\n",
       " 'POR',\n",
       " 'SAC',\n",
       " 'SAS',\n",
       " 'TOR',\n",
       " 'UTA',\n",
       " 'WAS'}"
      ]
     },
     "execution_count": 48,
     "metadata": {},
     "output_type": "execute_result"
    }
   ],
   "source": [
    "renamed_teams_list "
   ]
  },
  {
   "cell_type": "code",
   "execution_count": 7,
   "id": "measured-liver",
   "metadata": {},
   "outputs": [],
   "source": [
    "url = f'https://www.basketball-reference.com/teams/{team_id}/'\n",
    "\n",
    "html = urlopen(url)\n",
    "soup = BeautifulSoup(html, 'lxml')\n",
    "\n",
    "headers = [th.getText() for th in soup.findAll('tr', limit=2)[0].findAll('th')]\n",
    "rows = soup.findAll('tr')[1:]\n",
    "rows_data = [\n",
    "            [td.getText() for td in row.findAll('td')] \n",
    "            for row in rows\n",
    "            ]\n",
    "\n",
    "for i,row in enumerate(rows_data):\n",
    "    if row[0] == '1980-81':\n",
    "        rows_data = rows_data[:i+1]\n",
    "        break\n",
    "\n",
    "seasons = [\n",
    "            row.find('th').getText() \n",
    "            for row in rows\n",
    "            ]\n",
    "\n",
    "#re-inserting seasons at the beginning of each row\n",
    "for season,row in zip(seasons,rows_data):\n",
    "    row.insert(0,season)"
   ]
  },
  {
   "cell_type": "code",
   "execution_count": 8,
   "id": "guilty-spider",
   "metadata": {},
   "outputs": [],
   "source": [
    "df_team = pd.DataFrame(rows_data, columns=headers)"
   ]
  },
  {
   "cell_type": "code",
   "execution_count": 9,
   "id": "eligible-request",
   "metadata": {},
   "outputs": [],
   "source": [
    "df_team.Team = team_id"
   ]
  },
  {
   "cell_type": "code",
   "execution_count": 11,
   "id": "visible-actor",
   "metadata": {},
   "outputs": [],
   "source": [
    "import sys\n",
    "# insert at 1, 0 is the script path (or '' in REPL)\n",
    "sys.path.insert(1, '/Users/gazelle/GitRepositories/nba_mvp')\n"
   ]
  },
  {
   "cell_type": "code",
   "execution_count": 12,
   "id": "solid-memory",
   "metadata": {},
   "outputs": [
    {
     "data": {
      "text/plain": [
       "['/Users/gazelle/miniconda3/envs/nba-mvp/lib_pypy/__extensions__',\n",
       " '/Users/gazelle/GitRepositories/nba_mvp',\n",
       " '/Users/gazelle/miniconda3/envs/nba-mvp/lib_pypy',\n",
       " '/Users/gazelle/miniconda3/envs/nba-mvp/lib-python/3',\n",
       " '/Users/gazelle/miniconda3/envs/nba-mvp/lib-python/3/lib-tk',\n",
       " '/Users/gazelle/miniconda3/envs/nba-mvp/lib-python/3/plat-darwin',\n",
       " '/Users/gazelle/miniconda3/envs/nba-mvp/lib-python/3/plat-mac',\n",
       " '/Users/gazelle/miniconda3/envs/nba-mvp/lib-python/3/plat-mac/lib-scriptpackages',\n",
       " '',\n",
       " '/Users/gazelle/.local/lib/python3.7/site-packages',\n",
       " '/Users/gazelle/miniconda3/envs/nba-mvp/site-packages',\n",
       " '/Users/gazelle/miniconda3/envs/nba-mvp/site-packages/IPython/extensions',\n",
       " '/Users/gazelle/.ipython']"
      ]
     },
     "execution_count": 12,
     "metadata": {},
     "output_type": "execute_result"
    }
   ],
   "source": [
    "sys.path"
   ]
  },
  {
   "cell_type": "code",
   "execution_count": 13,
   "id": "alone-structure",
   "metadata": {},
   "outputs": [],
   "source": [
    "from src.data.raw_dataset import scrape_team_index_pages"
   ]
  },
  {
   "cell_type": "code",
   "execution_count": 17,
   "id": "vital-burton",
   "metadata": {},
   "outputs": [
    {
     "ename": "IndexError",
     "evalue": "list index out of range",
     "output_type": "error",
     "traceback": [
      "\u001b[0;31m---------------------------------------------------------------------------\u001b[0m",
      "\u001b[0;31mIndexError\u001b[0m                                Traceback (most recent call last)",
      "\u001b[0;32m<ipython-input-17-b4fc5f21e8e3>\u001b[0m in \u001b[0;36m<module>\u001b[0;34m\u001b[0m\n\u001b[0;32m----> 1\u001b[0;31m \u001b[0mdf_team\u001b[0m \u001b[0;34m=\u001b[0m \u001b[0mscrape_team_index_pages\u001b[0m\u001b[0;34m(\u001b[0m\u001b[0mteams\u001b[0m\u001b[0;34m)\u001b[0m\u001b[0;34m\u001b[0m\u001b[0;34m\u001b[0m\u001b[0m\n\u001b[0m",
      "\u001b[0;32m~/GitRepositories/nba_mvp/src/data/raw_dataset.py\u001b[0m in \u001b[0;36mscrape_team_index_pages\u001b[0;34m(teams)\u001b[0m\n\u001b[1;32m     69\u001b[0m \u001b[0;34m\u001b[0m\u001b[0m\n\u001b[1;32m     70\u001b[0m         \u001b[0msoup\u001b[0m \u001b[0;34m=\u001b[0m \u001b[0murl_to_soup\u001b[0m\u001b[0;34m(\u001b[0m\u001b[0murl\u001b[0m\u001b[0;34m)\u001b[0m\u001b[0;34m\u001b[0m\u001b[0;34m\u001b[0m\u001b[0m\n\u001b[0;32m---> 71\u001b[0;31m         \u001b[0mheaders\u001b[0m \u001b[0;34m=\u001b[0m \u001b[0mget_table_headers\u001b[0m\u001b[0;34m(\u001b[0m\u001b[0msoup\u001b[0m\u001b[0;34m,\u001b[0m \u001b[0;36m2\u001b[0m\u001b[0;34m,\u001b[0m \u001b[0;36m0\u001b[0m\u001b[0;34m)\u001b[0m\u001b[0;34m\u001b[0m\u001b[0;34m\u001b[0m\u001b[0m\n\u001b[0m\u001b[1;32m     72\u001b[0m         \u001b[0mrows_data\u001b[0m \u001b[0;34m=\u001b[0m \u001b[0mget_row_data\u001b[0m\u001b[0;34m(\u001b[0m\u001b[0msoup\u001b[0m\u001b[0;34m,\u001b[0m\u001b[0;36m1\u001b[0m\u001b[0;34m)\u001b[0m\u001b[0;34m\u001b[0m\u001b[0;34m\u001b[0m\u001b[0m\n\u001b[1;32m     73\u001b[0m         seasons = [\n",
      "\u001b[0;32m~/GitRepositories/nba_mvp/src/data/raw_dataset.py\u001b[0m in \u001b[0;36mget_table_headers\u001b[0;34m(soup, l, index)\u001b[0m\n\u001b[1;32m    139\u001b[0m     headers = [\n\u001b[1;32m    140\u001b[0m                \u001b[0mheader\u001b[0m\u001b[0;34m.\u001b[0m\u001b[0mgetText\u001b[0m\u001b[0;34m(\u001b[0m\u001b[0;34m)\u001b[0m\u001b[0;34m\u001b[0m\u001b[0;34m\u001b[0m\u001b[0m\n\u001b[0;32m--> 141\u001b[0;31m                \u001b[0;32mfor\u001b[0m \u001b[0mheader\u001b[0m \u001b[0;32min\u001b[0m \u001b[0msoup\u001b[0m\u001b[0;34m.\u001b[0m\u001b[0mfindAll\u001b[0m\u001b[0;34m(\u001b[0m\u001b[0;34m'tr'\u001b[0m\u001b[0;34m,\u001b[0m \u001b[0mlimit\u001b[0m\u001b[0;34m=\u001b[0m\u001b[0ml\u001b[0m\u001b[0;34m)\u001b[0m\u001b[0;34m[\u001b[0m\u001b[0mindex\u001b[0m\u001b[0;34m]\u001b[0m\u001b[0;34m.\u001b[0m\u001b[0mfindAll\u001b[0m\u001b[0;34m(\u001b[0m\u001b[0;34m'th'\u001b[0m\u001b[0;34m)\u001b[0m\u001b[0;34m\u001b[0m\u001b[0;34m\u001b[0m\u001b[0m\n\u001b[0m\u001b[1;32m    142\u001b[0m                ]\n\u001b[1;32m    143\u001b[0m     \u001b[0;32mreturn\u001b[0m \u001b[0mheaders\u001b[0m\u001b[0;34m\u001b[0m\u001b[0;34m\u001b[0m\u001b[0m\n",
      "\u001b[0;31mIndexError\u001b[0m: list index out of range"
     ]
    }
   ],
   "source": [
    "df_team = scrape_team_index_pages(teams)"
   ]
  },
  {
   "cell_type": "code",
   "execution_count": 22,
   "id": "exterior-schema",
   "metadata": {},
   "outputs": [],
   "source": [
    "def url_to_soup(url):\n",
    "    '''\n",
    "    Takes in a URL string and returns a bs4 object\n",
    "    '''\n",
    "    html = urlopen(url)\n",
    "    return BeautifulSoup(html, 'lxml')\n",
    "\n",
    "def get_row_data(soup, start):\n",
    "    '''\n",
    "    Takes a bs4 object and a start index and returns a list of lists representing the table data\n",
    "    \n",
    "    \n",
    "    '''    \n",
    "    rows = soup.findAll('tr')[start:]\n",
    "    rows_data = [\n",
    "                [td.getText() for td in row.findAll('td')] \n",
    "                for row in rows\n",
    "                ]\n",
    "    \n",
    "    return rows_data\n",
    "\n",
    "def get_table_headers(soup, l, index):\n",
    "    '''\n",
    "    Takes in a soup object, limit, and index\n",
    "    \n",
    "    Args:\n",
    "        soup (bs4 object): soup object \n",
    "        limit (int):\n",
    "        years (int):\n",
    "        \n",
    "    Returns:\n",
    "        headers : list of strings which represent column labels\n",
    "    '''\n",
    "    headers = [\n",
    "               header.getText() \n",
    "               for header in soup.findAll('tr', limit=l)[index].findAll('th')\n",
    "               ]\n",
    "    return headers"
   ]
  },
  {
   "cell_type": "code",
   "execution_count": 49,
   "id": "hourly-editing",
   "metadata": {},
   "outputs": [],
   "source": [
    "df_teams = pd.DataFrame()\n",
    "for i,team in enumerate(renamed_teams_list):\n",
    "    t0 = time.time() #crawl delay initializer\n",
    "\n",
    "    url = f'https://www.basketball-reference.com/teams/{team}/'\n",
    "\n",
    "    soup = url_to_soup(url)\n",
    "    headers = get_table_headers(soup, 2, 0)\n",
    "    rows_data = get_row_data(soup,1)\n",
    "    seasons = [\n",
    "                row.find('th').getText() \n",
    "                for row in soup.findAll('tr')[1:] \n",
    "                ]\n",
    "\n",
    "    for season,row in zip(seasons,rows_data):\n",
    "        row.insert(0,season)\n",
    "\n",
    "    for i,row in enumerate(rows_data):\n",
    "        if row[0] == '1980-81':\n",
    "            rows_data = rows_data[:i+1]\n",
    "            break\n",
    "\n",
    "    df_team = pd.DataFrame(rows_data, columns = headers)\n",
    "    df_team.Team = team\n",
    "\n",
    "    df_teams = df_teams.append(df_team, ignore_index=True)\n",
    "\n",
    "    if len(teams)-(i+1):\n",
    "        time.sleep(3-(t0-time.time()))"
   ]
  },
  {
   "cell_type": "code",
   "execution_count": 52,
   "id": "resistant-psychiatry",
   "metadata": {},
   "outputs": [
    {
     "data": {
      "text/plain": [
       "30"
      ]
     },
     "execution_count": 52,
     "metadata": {},
     "output_type": "execute_result"
    },
    {
     "data": {
      "text/plain": [
       "36"
      ]
     },
     "execution_count": 52,
     "metadata": {},
     "output_type": "execute_result"
    }
   ],
   "source": [
    "len(df_teams.Team.unique())  \n",
    "len(df_votes.Tm.unique())"
   ]
  },
  {
   "cell_type": "markdown",
   "id": "classical-amino",
   "metadata": {},
   "source": [
    "makes sense, I removed 6 teams which changed names"
   ]
  },
  {
   "cell_type": "code",
   "execution_count": 53,
   "id": "brown-thesis",
   "metadata": {},
   "outputs": [],
   "source": [
    "df_teams.to_csv(\"../data/raw/team-seasons-2020-1981\",index=False)"
   ]
  },
  {
   "cell_type": "code",
   "execution_count": null,
   "id": "coupled-latter",
   "metadata": {},
   "outputs": [],
   "source": []
  }
 ],
 "metadata": {
  "kernelspec": {
   "display_name": "Python 3",
   "language": "python",
   "name": "python3"
  },
  "language_info": {
   "codemirror_mode": {
    "name": "ipython",
    "version": 3
   },
   "file_extension": ".py",
   "mimetype": "text/x-python",
   "name": "python",
   "nbconvert_exporter": "python",
   "pygments_lexer": "ipython3",
   "version": "3.9.4"
  }
 },
 "nbformat": 4,
 "nbformat_minor": 5
}
